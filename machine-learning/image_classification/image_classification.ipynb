{
 "cells": [
  {
   "cell_type": "markdown",
   "metadata": {
    "collapsed": true
   },
   "source": [
    "# Image Classification\n",
    "In this project, you'll classify images from the [CIFAR-10 dataset](https://www.cs.toronto.edu/~kriz/cifar.html).  The dataset consists of airplanes, dogs, cats, and other objects. You'll preprocess the images, then train a convolutional neural network on all the samples. The images need to be normalized and the labels need to be one-hot encoded.  You'll get to apply what you learned and build a convolutional, max pooling, dropout, and fully connected layers.  At the end, you'll get to see your neural network's predictions on the sample images.\n",
    "## Get the Data\n",
    "Run the following cell to download the [CIFAR-10 dataset for python](https://www.cs.toronto.edu/~kriz/cifar-10-python.tar.gz)."
   ]
  },
  {
   "cell_type": "code",
   "execution_count": 1,
   "metadata": {},
   "outputs": [
    {
     "name": "stdout",
     "output_type": "stream",
     "text": [
      "All files found!\n"
     ]
    }
   ],
   "source": [
    "\"\"\"\n",
    "DON'T MODIFY ANYTHING IN THIS CELL THAT IS BELOW THIS LINE\n",
    "\"\"\"\n",
    "from urllib.request import urlretrieve\n",
    "from os.path import isfile, isdir\n",
    "from tqdm import tqdm\n",
    "import problem_unittests as tests\n",
    "import tarfile\n",
    "\n",
    "cifar10_dataset_folder_path = 'cifar-10-batches-py'\n",
    "\n",
    "class DLProgress(tqdm):\n",
    "    last_block = 0\n",
    "\n",
    "    def hook(self, block_num=1, block_size=1, total_size=None):\n",
    "        self.total = total_size\n",
    "        self.update((block_num - self.last_block) * block_size)\n",
    "        self.last_block = block_num\n",
    "\n",
    "if not isfile('cifar-10-python.tar.gz'):\n",
    "    with DLProgress(unit='B', unit_scale=True, miniters=1, desc='CIFAR-10 Dataset') as pbar:\n",
    "        urlretrieve(\n",
    "            'https://www.cs.toronto.edu/~kriz/cifar-10-python.tar.gz',\n",
    "            'cifar-10-python.tar.gz',\n",
    "            pbar.hook)\n",
    "\n",
    "if not isdir(cifar10_dataset_folder_path):\n",
    "    with tarfile.open('cifar-10-python.tar.gz') as tar:\n",
    "        tar.extractall()\n",
    "        tar.close()\n",
    "\n",
    "\n",
    "tests.test_folder_path(cifar10_dataset_folder_path)"
   ]
  },
  {
   "cell_type": "markdown",
   "metadata": {},
   "source": [
    "## Explore the Data\n",
    "The dataset is broken into batches to prevent your machine from running out of memory.  The CIFAR-10 dataset consists of 5 batches, named `data_batch_1`, `data_batch_2`, etc.. Each batch contains the labels and images that are one of the following:\n",
    "* airplane\n",
    "* automobile\n",
    "* bird\n",
    "* cat\n",
    "* deer\n",
    "* dog\n",
    "* frog\n",
    "* horse\n",
    "* ship\n",
    "* truck\n",
    "\n",
    "Understanding a dataset is part of making predictions on the data.  Play around with the code cell below by changing the `batch_id` and `sample_id`. The `batch_id` is the id for a batch (1-5). The `sample_id` is the id for a image and label pair in the batch.\n",
    "\n",
    "Ask yourself \"What are all possible labels?\", \"What is the range of values for the image data?\", \"Are the labels in order or random?\".  Answers to questions like these will help you preprocess the data and end up with better predictions."
   ]
  },
  {
   "cell_type": "code",
   "execution_count": 2,
   "metadata": {},
   "outputs": [
    {
     "name": "stdout",
     "output_type": "stream",
     "text": [
      "\n",
      "Stats of batch 1:\n",
      "Samples: 10000\n",
      "Label Counts: {0: 1005, 1: 974, 2: 1032, 3: 1016, 4: 999, 5: 937, 6: 1030, 7: 1001, 8: 1025, 9: 981}\n",
      "First 20 Labels: [6, 9, 9, 4, 1, 1, 2, 7, 8, 3, 4, 7, 7, 2, 9, 9, 9, 3, 2, 6]\n",
      "\n",
      "Example of Image 5:\n",
      "Image - Min Value: 0 Max Value: 252\n",
      "Image - Shape: (32, 32, 3)\n",
      "Label - Label Id: 1 Name: automobile\n"
     ]
    },
    {
     "data": {
      "image/png": "[encoded data removed]",
      "text/plain": [
       "<matplotlib.figure.Figure at 0x7f2c7e0800b8>"
      ]
     },
     "metadata": {
      "image/png": {
       "height": 250,
       "width": 253
      }
     },
     "output_type": "display_data"
    }
   ],
   "source": [
    "%matplotlib inline\n",
    "%config InlineBackend.figure_format = 'retina'\n",
    "\n",
    "import helper\n",
    "import numpy as np\n",
    "\n",
    "# Explore the dataset\n",
    "batch_id = 1\n",
    "sample_id = 5\n",
    "helper.display_stats(cifar10_dataset_folder_path, batch_id, sample_id)"
   ]
  },
  {
   "cell_type": "markdown",
   "metadata": {},
   "source": [
    "## Implement Preprocess Functions\n",
    "### Normalize\n",
    "In the cell below, implement the `normalize` function to take in image data, `x`, and return it as a normalized Numpy array. The values should be in the range of 0 to 1, inclusive.  The return object should be the same shape as `x`."
   ]
  },
  {
   "cell_type": "code",
   "execution_count": 3,
   "metadata": {},
   "outputs": [
    {
     "name": "stdout",
     "output_type": "stream",
     "text": [
      "0.0 1.0\n",
      "Tests Passed\n"
     ]
    }
   ],
   "source": [
    "def normalize(x):\n",
    "    \"\"\"\n",
    "    Normalize a list of sample image data in the range of 0 to 1\n",
    "    : x: List of image data.  The image shape is (32, 32, 3)\n",
    "    : return: Numpy array of normalize data\n",
    "    \"\"\"\n",
    "    # TODO: Implement Function\n",
    "    x = x / np.max(x)\n",
    "    print(np.min(x), np.max(x))\n",
    "    return x\n",
    "\n",
    "\n",
    "\"\"\"\n",
    "DON'T MODIFY ANYTHING IN THIS CELL THAT IS BELOW THIS LINE\n",
    "\"\"\"\n",
    "tests.test_normalize(normalize)"
   ]
  },
  {
   "cell_type": "markdown",
   "metadata": {},
   "source": [
    "### One-hot encode\n",
    "Just like the previous code cell, you'll be implementing a function for preprocessing.  This time, you'll implement the `one_hot_encode` function. The input, `x`, are a list of labels.  Implement the function to return the list of labels as One-Hot encoded Numpy array.  The possible values for labels are 0 to 9. The one-hot encoding function should return the same encoding for each value between each call to `one_hot_encode`.  Make sure to save the map of encodings outside the function.\n",
    "\n",
    "**Hint:**\n",
    "\n",
    "Look into LabelBinarizer in the preprocessing module of sklearn."
   ]
  },
  {
   "cell_type": "code",
   "execution_count": 4,
   "metadata": {},
   "outputs": [
    {
     "name": "stdout",
     "output_type": "stream",
     "text": [
      "Tests Passed\n"
     ]
    }
   ],
   "source": [
    "from sklearn.preprocessing import LabelBinarizer\n",
    "lbl = LabelBinarizer().fit(range(10))\n",
    "    \n",
    "def one_hot_encode(x):\n",
    "    \"\"\"\n",
    "    One hot encode a list of sample labels. Return a one-hot encoded vector for each label.\n",
    "    : x: List of sample Labels\n",
    "    : return: Numpy array of one-hot encoded labels\n",
    "    \"\"\"\n",
    "    # TODO: Implement Function\n",
    "    return lbl.transform(x)\n",
    "\n",
    "\n",
    "\"\"\"\n",
    "DON'T MODIFY ANYTHING IN THIS CELL THAT IS BELOW THIS LINE\n",
    "\"\"\"\n",
    "tests.test_one_hot_encode(one_hot_encode)"
   ]
  },
  {
   "cell_type": "markdown",
   "metadata": {},
   "source": [
    "### Randomize Data\n",
    "As you saw from exploring the data above, the order of the samples are randomized.  It doesn't hurt to randomize it again, but you don't need to for this dataset."
   ]
  },
  {
   "cell_type": "markdown",
   "metadata": {},
   "source": [
    "## Preprocess all the data and save it\n",
    "Running the code cell below will preprocess all the CIFAR-10 data and save it to file. The code below also uses 10% of the training data for validation."
   ]
  },
  {
   "cell_type": "code",
   "execution_count": 5,
   "metadata": {},
   "outputs": [
    {
     "name": "stdout",
     "output_type": "stream",
     "text": [
      "0.0 1.0\n",
      "0.0 1.0\n",
      "0.0 1.0\n",
      "0.0 1.0\n",
      "0.0 1.0\n",
      "0.0 1.0\n",
      "0.0 1.0\n"
     ]
    }
   ],
   "source": [
    "\"\"\"\n",
    "DON'T MODIFY ANYTHING IN THIS CELL\n",
    "\"\"\"\n",
    "# Preprocess Training, Validation, and Testing Data\n",
    "helper.preprocess_and_save_data(cifar10_dataset_folder_path, normalize, one_hot_encode)"
   ]
  },
  {
   "cell_type": "markdown",
   "metadata": {},
   "source": [
    "# Check Point\n",
    "This is your first checkpoint.  If you ever decide to come back to this notebook or have to restart the notebook, you can start from here.  The preprocessed data has been saved to disk."
   ]
  },
  {
   "cell_type": "code",
   "execution_count": 1,
   "metadata": {
    "collapsed": true
   },
   "outputs": [],
   "source": [
    "\"\"\"\n",
    "DON'T MODIFY ANYTHING IN THIS CELL\n",
    "\"\"\"\n",
    "import pickle\n",
    "import problem_unittests as tests\n",
    "import helper\n",
    "\n",
    "# Load the Preprocessed Validation data\n",
    "valid_features, valid_labels = pickle.load(open('preprocess_validation.p', mode='rb'))"
   ]
  },
  {
   "cell_type": "markdown",
   "metadata": {},
   "source": [
    "## Build the network\n",
    "For the neural network, you'll build each layer into a function.  Most of the code you've seen has been outside of functions. To test your code more thoroughly, we require that you put each layer in a function.  This allows us to give you better feedback and test for simple mistakes using our unittests before you submit your project.\n",
    "\n",
    ">**Note:** If you're finding it hard to dedicate enough time for this course each week, we've provided a small shortcut to this part of the project. In the next couple of problems, you'll have the option to use classes from the [TensorFlow Layers](https://www.tensorflow.org/api_docs/python/tf/layers) or [TensorFlow Layers (contrib)](https://www.tensorflow.org/api_guides/python/contrib.layers) packages to build each layer, except the layers you build in the \"Convolutional and Max Pooling Layer\" section.  TF Layers is similar to Keras's and TFLearn's abstraction to layers, so it's easy to pickup.\n",
    "\n",
    ">However, if you would like to get the most out of this course, try to solve all the problems _without_ using anything from the TF Layers packages. You **can** still use classes from other packages that happen to have the same name as ones you find in TF Layers! For example, instead of using the TF Layers version of the `conv2d` class, [tf.layers.conv2d](https://www.tensorflow.org/api_docs/python/tf/layers/conv2d), you would want to use the TF Neural Network version of `conv2d`, [tf.nn.conv2d](https://www.tensorflow.org/api_docs/python/tf/nn/conv2d). \n",
    "\n",
    "Let's begin!\n",
    "\n",
    "### Input\n",
    "The neural network needs to read the image data, one-hot encoded labels, and dropout keep probability. Implement the following functions\n",
    "* Implement `neural_net_image_input`\n",
    " * Return a [TF Placeholder](https://www.tensorflow.org/api_docs/python/tf/placeholder)\n",
    " * Set the shape using `image_shape` with batch size set to `None`.\n",
    " * Name the TensorFlow placeholder \"x\" using the TensorFlow `name` parameter in the [TF Placeholder](https://www.tensorflow.org/api_docs/python/tf/placeholder).\n",
    "* Implement `neural_net_label_input`\n",
    " * Return a [TF Placeholder](https://www.tensorflow.org/api_docs/python/tf/placeholder)\n",
    " * Set the shape using `n_classes` with batch size set to `None`.\n",
    " * Name the TensorFlow placeholder \"y\" using the TensorFlow `name` parameter in the [TF Placeholder](https://www.tensorflow.org/api_docs/python/tf/placeholder).\n",
    "* Implement `neural_net_keep_prob_input`\n",
    " * Return a [TF Placeholder](https://www.tensorflow.org/api_docs/python/tf/placeholder) for dropout keep probability.\n",
    " * Name the TensorFlow placeholder \"keep_prob\" using the TensorFlow `name` parameter in the [TF Placeholder](https://www.tensorflow.org/api_docs/python/tf/placeholder).\n",
    "\n",
    "These names will be used at the end of the project to load your saved model.\n",
    "\n",
    "Note: `None` for shapes in TensorFlow allow for a dynamic size."
   ]
  },
  {
   "cell_type": "code",
   "execution_count": 2,
   "metadata": {},
   "outputs": [
    {
     "name": "stdout",
     "output_type": "stream",
     "text": [
      "Image Input Tests Passed.\n",
      "Label Input Tests Passed.\n",
      "Keep Prob Tests Passed.\n"
     ]
    }
   ],
   "source": [
    "import tensorflow as tf\n",
    "\n",
    "# Set random seed\n",
    "tf.set_random_seed(25)\n",
    "\n",
    "def neural_net_image_input(image_shape):\n",
    "    \"\"\"\n",
    "    Return a Tensor for a batch of image input\n",
    "    : image_shape: Shape of the images\n",
    "    : return: Tensor for image input.\n",
    "    \"\"\"\n",
    "    # TODO: Implement Function\n",
    "    h, w, c = image_shape\n",
    "    return tf.placeholder(tf.float32, name='x', shape=(None, h, w, c))\n",
    "\n",
    "def neural_net_label_input(n_classes):\n",
    "    \"\"\"\n",
    "    Return a Tensor for a batch of label input\n",
    "    : n_classes: Number of classes\n",
    "    : return: Tensor for label input.\n",
    "    \"\"\"\n",
    "    # TODO: Implement Function\n",
    "    return tf.placeholder(tf.float32, name='y', shape=(None, n_classes))\n",
    "\n",
    "\n",
    "def neural_net_keep_prob_input():\n",
    "    \"\"\"\n",
    "    Return a Tensor for keep probability\n",
    "    : return: Tensor for keep probability.\n",
    "    \"\"\"\n",
    "    # TODO: Implement Function\n",
    "    return tf.placeholder(tf.float32, name='keep_prob')\n",
    "\n",
    "\n",
    "\"\"\"\n",
    "DON'T MODIFY ANYTHING IN THIS CELL THAT IS BELOW THIS LINE\n",
    "\"\"\"\n",
    "tf.reset_default_graph()\n",
    "tests.test_nn_image_inputs(neural_net_image_input)\n",
    "tests.test_nn_label_inputs(neural_net_label_input)\n",
    "tests.test_nn_keep_prob_inputs(neural_net_keep_prob_input)"
   ]
  },
  {
   "cell_type": "markdown",
   "metadata": {},
   "source": [
    "### Convolution and Max Pooling Layer\n",
    "Convolution layers have a lot of success with images. For this code cell, you should implement the function `conv2d_maxpool` to apply convolution then max pooling:\n",
    "* Create the weight and bias using `conv_ksize`, `conv_num_outputs` and the shape of `x_tensor`.\n",
    "* Apply a convolution to `x_tensor` using weight and `conv_strides`.\n",
    " * We recommend you use same padding, but you're welcome to use any padding.\n",
    "* Add bias\n",
    "* Add a nonlinear activation to the convolution.\n",
    "* Apply Max Pooling using `pool_ksize` and `pool_strides`.\n",
    " * We recommend you use same padding, but you're welcome to use any padding.\n",
    "\n",
    "**Note:** You **can't** use [TensorFlow Layers](https://www.tensorflow.org/api_docs/python/tf/layers) or [TensorFlow Layers (contrib)](https://www.tensorflow.org/api_guides/python/contrib.layers) for **this** layer, but you can still use TensorFlow's [Neural Network](https://www.tensorflow.org/api_docs/python/tf/nn) package. You may still use the shortcut option for all the **other** layers.\n",
    "\n",
    "** Hint: **\n",
    "\n",
    "When unpacking values as an argument in Python, look into the [unpacking](https://docs.python.org/3/tutorial/controlflow.html#unpacking-argument-lists) operator. "
   ]
  },
  {
   "cell_type": "code",
   "execution_count": 4,
   "metadata": {},
   "outputs": [
    {
     "name": "stdout",
     "output_type": "stream",
     "text": [
      "Tests Passed\n"
     ]
    }
   ],
   "source": [
    "def conv2d_maxpool(x_tensor, conv_num_outputs, conv_ksize, conv_strides, pool_ksize, pool_strides):\n",
    "    \"\"\"\n",
    "    Apply convolution then max pooling to x_tensor\n",
    "    :param x_tensor: TensorFlow Tensor\n",
    "    :param conv_num_outputs: Number of outputs for the convolutional layer\n",
    "    :param conv_ksize: kernal size 2-D Tuple for the convolutional layer\n",
    "    :param conv_strides: Stride 2-D Tuple for convolution\n",
    "    :param pool_ksize: kernal size 2-D Tuple for pool\n",
    "    :param pool_strides: Stride 2-D Tuple for pool\n",
    "    : return: A tensor that represents convolution and max pooling of x_tensor\n",
    "    \"\"\"\n",
    "    \n",
    "    # TODO: Implement Function\n",
    "\n",
    "    wc = tf.Variable(tf.random_normal([conv_ksize[0], conv_ksize[1], tf.cast(x_tensor.shape[-1], tf.int32), conv_num_outputs], stddev=0.1))\n",
    "    bc = tf.Variable(tf.random_normal([conv_num_outputs], stddev=0.1))\n",
    "    \n",
    "    conv = tf.nn.conv2d(x_tensor, wc, strides=[1, conv_strides[0], conv_strides[1], 1], padding='SAME')\n",
    "    conv = tf.nn.bias_add(conv, bc)\n",
    "    conv = tf.nn.elu(conv)\n",
    "    conv = tf.nn.max_pool(conv, ksize=[1, pool_ksize[0], pool_ksize[1], 1], strides=[1, pool_strides[0], pool_strides[1], 1], padding='SAME')\n",
    " \n",
    "    return conv\n",
    "\n",
    "\"\"\"\n",
    "DON'T MODIFY ANYTHING IN THIS CELL THAT IS BELOW THIS LINE\n",
    "\"\"\"\n",
    "tests.test_con_pool(conv2d_maxpool)"
   ]
  },
  {
   "cell_type": "markdown",
   "metadata": {},
   "source": [
    "### Flatten Layer\n",
    "Implement the `flatten` function to change the dimension of `x_tensor` from a 4-D tensor to a 2-D tensor.  The output should be the shape (*Batch Size*, *Flattened Image Size*). Shortcut option: you can use classes from the [TensorFlow Layers](https://www.tensorflow.org/api_docs/python/tf/layers) or [TensorFlow Layers (contrib)](https://www.tensorflow.org/api_guides/python/contrib.layers) packages for this layer. For more of a challenge, only use other TensorFlow packages."
   ]
  },
  {
   "cell_type": "code",
   "execution_count": 5,
   "metadata": {},
   "outputs": [
    {
     "name": "stdout",
     "output_type": "stream",
     "text": [
      "Tests Passed\n"
     ]
    }
   ],
   "source": [
    "def flatten(x_tensor):\n",
    "    \"\"\"\n",
    "    Flatten x_tensor to (Batch Size, Flattened Image Size)\n",
    "    : x_tensor: A tensor of size (Batch Size, ...), where ... are the image dimensions.\n",
    "    : return: A tensor of size (Batch Size, Flattened Image Size).\n",
    "    \"\"\"\n",
    "    # TODO: Implement Function\n",
    "    _, h, w, c = x_tensor.shape\n",
    "    return tf.reshape(x_tensor, [-1, tf.cast(h * w * c, tf.int32)])\n",
    "\n",
    "\n",
    "\"\"\"\n",
    "DON'T MODIFY ANYTHING IN THIS CELL THAT IS BELOW THIS LINE\n",
    "\"\"\"\n",
    "tests.test_flatten(flatten)"
   ]
  },
  {
   "cell_type": "markdown",
   "metadata": {},
   "source": [
    "### Fully-Connected Layer\n",
    "Implement the `fully_conn` function to apply a fully connected layer to `x_tensor` with the shape (*Batch Size*, *num_outputs*). Shortcut option: you can use classes from the [TensorFlow Layers](https://www.tensorflow.org/api_docs/python/tf/layers) or [TensorFlow Layers (contrib)](https://www.tensorflow.org/api_guides/python/contrib.layers) packages for this layer. For more of a challenge, only use other TensorFlow packages."
   ]
  },
  {
   "cell_type": "code",
   "execution_count": 6,
   "metadata": {},
   "outputs": [
    {
     "name": "stdout",
     "output_type": "stream",
     "text": [
      "Tests Passed\n"
     ]
    }
   ],
   "source": [
    "def fully_conn(x_tensor, num_outputs):\n",
    "    \"\"\"\n",
    "    Apply a fully connected layer to x_tensor using weight and bias\n",
    "    : x_tensor: A 2-D tensor where the first dimension is batch size.\n",
    "    : num_outputs: The number of output that the new tensor should be.\n",
    "    : return: A 2-D tensor where the second dimension is num_outputs.\n",
    "    \"\"\"\n",
    "    # TODO: Implement Function\n",
    "    wd = tf.Variable(tf.random_normal([tf.cast(x_tensor.shape[1], tf.int32), num_outputs], stddev=0.1))\n",
    "    bd = tf.Variable(tf.random_normal([num_outputs], stddev=0.1))\n",
    "    \n",
    "    fc = tf.add(tf.matmul(x_tensor, wd), bd)\n",
    "    fc = tf.nn.elu(fc)\n",
    "    return fc\n",
    "\n",
    "\n",
    "\"\"\"\n",
    "DON'T MODIFY ANYTHING IN THIS CELL THAT IS BELOW THIS LINE\n",
    "\"\"\"\n",
    "tests.test_fully_conn(fully_conn)"
   ]
  },
  {
   "cell_type": "markdown",
   "metadata": {},
   "source": [
    "### Output Layer\n",
    "Implement the `output` function to apply a fully connected layer to `x_tensor` with the shape (*Batch Size*, *num_outputs*). Shortcut option: you can use classes from the [TensorFlow Layers](https://www.tensorflow.org/api_docs/python/tf/layers) or [TensorFlow Layers (contrib)](https://www.tensorflow.org/api_guides/python/contrib.layers) packages for this layer. For more of a challenge, only use other TensorFlow packages.\n",
    "\n",
    "**Note:** Activation, softmax, or cross entropy should **not** be applied to this."
   ]
  },
  {
   "cell_type": "code",
   "execution_count": 7,
   "metadata": {},
   "outputs": [
    {
     "name": "stdout",
     "output_type": "stream",
     "text": [
      "Tests Passed\n"
     ]
    }
   ],
   "source": [
    "def output(x_tensor, num_outputs):\n",
    "    \"\"\"\n",
    "    Apply a output layer to x_tensor using weight and bias\n",
    "    : x_tensor: A 2-D tensor where the first dimension is batch size.\n",
    "    : num_outputs: The number of output that the new tensor should be.\n",
    "    : return: A 2-D tensor where the second dimension is num_outputs.\n",
    "    \"\"\"\n",
    "    # TODO: Implement Function\n",
    "    ow = tf.Variable(tf.random_normal([tf.cast(x_tensor.shape[1], tf.int32), num_outputs], stddev=0.1))\n",
    "    ob = tf.Variable(tf.random_normal([num_outputs], stddev=0.1))\n",
    "    \n",
    "    out = tf.add(tf.matmul(x_tensor, ow), ob)\n",
    "    return out\n",
    "\n",
    "\n",
    "\"\"\"1\n",
    "DON'T MODIFY ANYTHING IN THIS CELL THAT IS BELOW THIS LINE\n",
    "\"\"\"\n",
    "tests.test_output(output)"
   ]
  },
  {
   "cell_type": "markdown",
   "metadata": {},
   "source": [
    "### Create Convolutional Model\n",
    "Implement the function `conv_net` to create a convolutional neural network model. The function takes in a batch of images, `x`, and outputs logits.  Use the layers you created above to create this model:\n",
    "\n",
    "* Apply 1, 2, or 3 Convolution and Max Pool layers\n",
    "* Apply a Flatten Layer\n",
    "* Apply 1, 2, or 3 Fully Connected Layers\n",
    "* Apply an Output Layer\n",
    "* Return the output\n",
    "* Apply [TensorFlow's Dropout](https://www.tensorflow.org/api_docs/python/tf/nn/dropout) to one or more layers in the model using `keep_prob`. "
   ]
  },
  {
   "cell_type": "code",
   "execution_count": 16,
   "metadata": {},
   "outputs": [
    {
     "name": "stdout",
     "output_type": "stream",
     "text": [
      "Neural Network Built!\n"
     ]
    }
   ],
   "source": [
    "def conv_net(x, keep_prob):\n",
    "    \"\"\"\n",
    "    Create a convolutional neural network model\n",
    "    : x: Placeholder tensor that holds image data.\n",
    "    : keep_prob: Placeholder tensor that hold dropout keep probability.\n",
    "    : return: Tensor that represents logits\n",
    "    \"\"\"\n",
    "    # TODO: Apply 1, 2, or 3 Convolution and Max Pool layers\n",
    "    #    Play around with different number of outputs, kernel size and stride\n",
    "    # Function Definition from Above:\n",
    "    #    conv2d_maxpool(x_tensor, conv_num_outputs, conv_ksize, conv_strides, pool_ksize, pool_strides)\n",
    "    conv = conv2d_maxpool(x, 8, (3, 3), (1, 1), (2, 2), (2, 2))\n",
    "    conv = conv2d_maxpool(conv, 16, (3, 3), (1, 1), (2, 2), (2, 2))\n",
    "    conv = conv2d_maxpool(conv, 32, (3, 3), (1, 1), (2, 2), (2, 2))\n",
    "\n",
    "\n",
    "    # TODO: Apply a Flatten Layer\n",
    "    # Function Definition from Above:\n",
    "    #   flatten(x_tensor)\n",
    "    fully = flatten(conv)\n",
    "\n",
    "    # TODO: Apply 1, 2, or 3 Fully Connected Layers\n",
    "    #    Play around with different number of outputs\n",
    "    # Function Definition from Above:\n",
    "    #   fully_conn(x_tensor, num_outputs)\n",
    "    fully = fully_conn(fully, 128)\n",
    "    fully = tf.nn.dropout(fully, keep_prob=keep_prob)\n",
    "    fully = fully_conn(fully, 64)\n",
    "    fully = tf.nn.dropout(fully, keep_prob=keep_prob)\n",
    "    \n",
    "    # TODO: Apply an Output Layer\n",
    "    #    Set this to the number of classes\n",
    "    # Function Definition from Above:\n",
    "    #   output(x_tensor, num_outputs)\n",
    "    out = output(fully, 10)\n",
    "    \n",
    "    # TODO: return output\n",
    "    return out\n",
    "\n",
    "\n",
    "\"\"\"\n",
    "DON'T MODIFY ANYTHING IN THIS CELL THAT IS BELOW THIS LINE\n",
    "\"\"\"\n",
    "\n",
    "##############################\n",
    "## Build the Neural Network ##\n",
    "##############################\n",
    "\n",
    "# Remove previous weights, bias, inputs, etc..\n",
    "tf.reset_default_graph()\n",
    "\n",
    "# Inputs\n",
    "x = neural_net_image_input((32, 32, 3))\n",
    "y = neural_net_label_input(10)\n",
    "keep_prob = neural_net_keep_prob_input()\n",
    "\n",
    "# Model\n",
    "logits = conv_net(x, keep_prob)\n",
    "\n",
    "# Name logits Tensor, so that is can be loaded from disk after training\n",
    "logits = tf.identity(logits, name='logits')\n",
    "\n",
    "# Loss and Optimizer\n",
    "cost = tf.reduce_mean(tf.nn.softmax_cross_entropy_with_logits(logits=logits, labels=y))\n",
    "optimizer = tf.train.AdamOptimizer().minimize(cost)\n",
    "\n",
    "# Accuracy\n",
    "correct_pred = tf.equal(tf.argmax(logits, 1), tf.argmax(y, 1))\n",
    "accuracy = tf.reduce_mean(tf.cast(correct_pred, tf.float32), name='accuracy')\n",
    "\n",
    "tests.test_conv_net(conv_net)"
   ]
  },
  {
   "cell_type": "markdown",
   "metadata": {},
   "source": [
    "## Train the Neural Network\n",
    "### Single Optimization\n",
    "Implement the function `train_neural_network` to do a single optimization.  The optimization should use `optimizer` to optimize in `session` with a `feed_dict` of the following:\n",
    "* `x` for image input\n",
    "* `y` for labels\n",
    "* `keep_prob` for keep probability for dropout\n",
    "\n",
    "This function will be called for each batch, so `tf.global_variables_initializer()` has already been called.\n",
    "\n",
    "Note: Nothing needs to be returned. This function is only optimizing the neural network."
   ]
  },
  {
   "cell_type": "code",
   "execution_count": 17,
   "metadata": {},
   "outputs": [
    {
     "name": "stdout",
     "output_type": "stream",
     "text": [
      "Tests Passed\n"
     ]
    }
   ],
   "source": [
    "def train_neural_network(session, optimizer, keep_probability, feature_batch, label_batch):\n",
    "    \"\"\"\n",
    "    Optimize the session on a batch of images and labels\n",
    "    : session: Current TensorFlow session\n",
    "    : optimizer: TensorFlow optimizer function\n",
    "    : keep_probability: keep probability\n",
    "    : feature_batch: Batch of Numpy image data\n",
    "    : label_batch: Batch of Numpy label data\n",
    "    \"\"\"\n",
    "    # TODO: Implement Function\n",
    "    session.run(optimizer, feed_dict={x: feature_batch, y: label_batch, keep_prob: keep_probability})\n",
    "\n",
    "\n",
    "\"\"\"\n",
    "DON'T MODIFY ANYTHING IN THIS CELL THAT IS BELOW THIS LINE\n",
    "\"\"\"\n",
    "tests.test_train_nn(train_neural_network)"
   ]
  },
  {
   "cell_type": "markdown",
   "metadata": {},
   "source": [
    "### Show Stats\n",
    "Implement the function `print_stats` to print loss and validation accuracy.  Use the global variables `valid_features` and `valid_labels` to calculate validation accuracy.  Use a keep probability of `1.0` to calculate the loss and validation accuracy."
   ]
  },
  {
   "cell_type": "code",
   "execution_count": 18,
   "metadata": {
    "collapsed": true
   },
   "outputs": [],
   "source": [
    "def print_stats(session, feature_batch, label_batch, cost, accuracy):\n",
    "    \"\"\"\n",
    "    Print information about loss and validation accuracy\n",
    "    : session: Current TensorFlow session\n",
    "    : feature_batch: Batch of Numpy image data\n",
    "    : label_batch: Batch of Numpy label data\n",
    "    : cost: TensorFlow cost function\n",
    "    : accuracy: TensorFlow accuracy function\n",
    "    \"\"\"\n",
    "    # TODO: Implement Function\n",
    "    loss = session.run(cost, feed_dict={x: feature_batch, y: label_batch, keep_prob: 1.})\n",
    "    acc  = session.run(accuracy, feed_dict={x: valid_features, y: valid_labels, keep_prob: 1.})\n",
    "    print(\"loss: {:>10.4f} Accuracy: {:.6f}\".format(loss, acc))"
   ]
  },
  {
   "cell_type": "markdown",
   "metadata": {},
   "source": [
    "### Hyperparameters\n",
    "Tune the following parameters:\n",
    "* Set `epochs` to the number of iterations until the network stops learning or start overfitting\n",
    "* Set `batch_size` to the highest number that your machine has memory for.  Most people set them to common sizes of memory:\n",
    " * 64\n",
    " * 128\n",
    " * 256\n",
    " * ...\n",
    "* Set `keep_probability` to the probability of keeping a node using dropout"
   ]
  },
  {
   "cell_type": "code",
   "execution_count": 19,
   "metadata": {
    "collapsed": true
   },
   "outputs": [],
   "source": [
    "# TODO: Tune Parameters\n",
    "epochs = 50\n",
    "batch_size = 256\n",
    "keep_probability = 0.5"
   ]
  },
  {
   "cell_type": "markdown",
   "metadata": {},
   "source": [
    "### Train on a Single CIFAR-10 Batch\n",
    "Instead of training the neural network on all the CIFAR-10 batches of data, let's use a single batch. This should save time while you iterate on the model to get a better accuracy.  Once the final validation accuracy is 50% or greater, run the model on all the data in the next section."
   ]
  },
  {
   "cell_type": "code",
   "execution_count": 20,
   "metadata": {},
   "outputs": [
    {
     "name": "stdout",
     "output_type": "stream",
     "text": [
      "Checking the Training on a Single Batch...\n",
      "Epoch  1, CIFAR-10 Batch 1:  loss:     2.0570 Accuracy: 0.331000\n",
      "Epoch  2, CIFAR-10 Batch 1:  loss:     1.9306 Accuracy: 0.376800\n",
      "Epoch  3, CIFAR-10 Batch 1:  loss:     1.8376 Accuracy: 0.423200\n",
      "Epoch  4, CIFAR-10 Batch 1:  loss:     1.7512 Accuracy: 0.432400\n",
      "Epoch  5, CIFAR-10 Batch 1:  loss:     1.6097 Accuracy: 0.464200\n",
      "Epoch  6, CIFAR-10 Batch 1:  loss:     1.5666 Accuracy: 0.468200\n",
      "Epoch  7, CIFAR-10 Batch 1:  loss:     1.4927 Accuracy: 0.477600\n",
      "Epoch  8, CIFAR-10 Batch 1:  loss:     1.3612 Accuracy: 0.492600\n",
      "Epoch  9, CIFAR-10 Batch 1:  loss:     1.3052 Accuracy: 0.499000\n",
      "Epoch 10, CIFAR-10 Batch 1:  loss:     1.2582 Accuracy: 0.499000\n",
      "Epoch 11, CIFAR-10 Batch 1:  loss:     1.2359 Accuracy: 0.499000\n",
      "Epoch 12, CIFAR-10 Batch 1:  loss:     1.1012 Accuracy: 0.512200\n",
      "Epoch 13, CIFAR-10 Batch 1:  loss:     1.0439 Accuracy: 0.516600\n",
      "Epoch 14, CIFAR-10 Batch 1:  loss:     1.0541 Accuracy: 0.513400\n",
      "Epoch 15, CIFAR-10 Batch 1:  loss:     0.9931 Accuracy: 0.526000\n",
      "Epoch 16, CIFAR-10 Batch 1:  loss:     0.9394 Accuracy: 0.532800\n",
      "Epoch 17, CIFAR-10 Batch 1:  loss:     0.9091 Accuracy: 0.529600\n",
      "Epoch 18, CIFAR-10 Batch 1:  loss:     0.8527 Accuracy: 0.542000\n",
      "Epoch 19, CIFAR-10 Batch 1:  loss:     0.8070 Accuracy: 0.530000\n",
      "Epoch 20, CIFAR-10 Batch 1:  loss:     0.7627 Accuracy: 0.544600\n",
      "Epoch 21, CIFAR-10 Batch 1:  loss:     0.7265 Accuracy: 0.544800\n",
      "Epoch 22, CIFAR-10 Batch 1:  loss:     0.6896 Accuracy: 0.543800\n",
      "Epoch 23, CIFAR-10 Batch 1:  loss:     0.6642 Accuracy: 0.541600\n",
      "Epoch 24, CIFAR-10 Batch 1:  loss:     0.6035 Accuracy: 0.550200\n",
      "Epoch 25, CIFAR-10 Batch 1:  loss:     0.6018 Accuracy: 0.546600\n",
      "Epoch 26, CIFAR-10 Batch 1:  loss:     0.5638 Accuracy: 0.548000\n",
      "Epoch 27, CIFAR-10 Batch 1:  loss:     0.5447 Accuracy: 0.550000\n",
      "Epoch 28, CIFAR-10 Batch 1:  loss:     0.5174 Accuracy: 0.557200\n",
      "Epoch 29, CIFAR-10 Batch 1:  loss:     0.4966 Accuracy: 0.561200\n",
      "Epoch 30, CIFAR-10 Batch 1:  loss:     0.4582 Accuracy: 0.557600\n",
      "Epoch 31, CIFAR-10 Batch 1:  loss:     0.4390 Accuracy: 0.566200\n",
      "Epoch 32, CIFAR-10 Batch 1:  loss:     0.4291 Accuracy: 0.559200\n",
      "Epoch 33, CIFAR-10 Batch 1:  loss:     0.4220 Accuracy: 0.565800\n",
      "Epoch 34, CIFAR-10 Batch 1:  loss:     0.4010 Accuracy: 0.567200\n",
      "Epoch 35, CIFAR-10 Batch 1:  loss:     0.4011 Accuracy: 0.573200\n",
      "Epoch 36, CIFAR-10 Batch 1:  loss:     0.3799 Accuracy: 0.566000\n",
      "Epoch 37, CIFAR-10 Batch 1:  loss:     0.3464 Accuracy: 0.566200\n",
      "Epoch 38, CIFAR-10 Batch 1:  loss:     0.3480 Accuracy: 0.573600\n",
      "Epoch 39, CIFAR-10 Batch 1:  loss:     0.3240 Accuracy: 0.576600\n",
      "Epoch 40, CIFAR-10 Batch 1:  loss:     0.3124 Accuracy: 0.575600\n",
      "Epoch 41, CIFAR-10 Batch 1:  loss:     0.3016 Accuracy: 0.566800\n",
      "Epoch 42, CIFAR-10 Batch 1:  loss:     0.3029 Accuracy: 0.578400\n",
      "Epoch 43, CIFAR-10 Batch 1:  loss:     0.2921 Accuracy: 0.574200\n",
      "Epoch 44, CIFAR-10 Batch 1:  loss:     0.2742 Accuracy: 0.585000\n",
      "Epoch 45, CIFAR-10 Batch 1:  loss:     0.2567 Accuracy: 0.577000\n",
      "Epoch 46, CIFAR-10 Batch 1:  loss:     0.2705 Accuracy: 0.578800\n",
      "Epoch 47, CIFAR-10 Batch 1:  loss:     0.2744 Accuracy: 0.577600\n",
      "Epoch 48, CIFAR-10 Batch 1:  loss:     0.2591 Accuracy: 0.577600\n",
      "Epoch 49, CIFAR-10 Batch 1:  loss:     0.2455 Accuracy: 0.576000\n",
      "Epoch 50, CIFAR-10 Batch 1:  loss:     0.2375 Accuracy: 0.575600\n"
     ]
    }
   ],
   "source": [
    "\"\"\"\n",
    "DON'T MODIFY ANYTHING IN THIS CELL\n",
    "\"\"\"\n",
    "print('Checking the Training on a Single Batch...')\n",
    "with tf.Session() as sess:\n",
    "    # Initializing the variables\n",
    "    sess.run(tf.global_variables_initializer())\n",
    "    \n",
    "    # Training cycle\n",
    "    for epoch in range(epochs):\n",
    "        batch_i = 1\n",
    "        for batch_features, batch_labels in helper.load_preprocess_training_batch(batch_i, batch_size):\n",
    "            train_neural_network(sess, optimizer, keep_probability, batch_features, batch_labels)\n",
    "        print('Epoch {:>2}, CIFAR-10 Batch {}:  '.format(epoch + 1, batch_i), end='')\n",
    "        print_stats(sess, batch_features, batch_labels, cost, accuracy)"
   ]
  },
  {
   "cell_type": "markdown",
   "metadata": {},
   "source": [
    "### Fully Train the Model\n",
    "Now that you got a good accuracy with a single CIFAR-10 batch, try it with all five batches."
   ]
  },
  {
   "cell_type": "code",
   "execution_count": 21,
   "metadata": {},
   "outputs": [
    {
     "name": "stdout",
     "output_type": "stream",
     "text": [
      "Training...\n",
      "Epoch  1, CIFAR-10 Batch 1:  loss:     2.1056 Accuracy: 0.282800\n",
      "Epoch  1, CIFAR-10 Batch 2:  loss:     1.9148 Accuracy: 0.366000\n",
      "Epoch  1, CIFAR-10 Batch 3:  loss:     1.6037 Accuracy: 0.385600\n",
      "Epoch  1, CIFAR-10 Batch 4:  loss:     1.6432 Accuracy: 0.410200\n",
      "Epoch  1, CIFAR-10 Batch 5:  loss:     1.5938 Accuracy: 0.433000\n",
      "Epoch  2, CIFAR-10 Batch 1:  loss:     1.7418 Accuracy: 0.450200\n",
      "Epoch  2, CIFAR-10 Batch 2:  loss:     1.6244 Accuracy: 0.459200\n",
      "Epoch  2, CIFAR-10 Batch 3:  loss:     1.2614 Accuracy: 0.461400\n",
      "Epoch  2, CIFAR-10 Batch 4:  loss:     1.4230 Accuracy: 0.477400\n",
      "Epoch  2, CIFAR-10 Batch 5:  loss:     1.4392 Accuracy: 0.480400\n",
      "Epoch  3, CIFAR-10 Batch 1:  loss:     1.5408 Accuracy: 0.502800\n",
      "Epoch  3, CIFAR-10 Batch 2:  loss:     1.4266 Accuracy: 0.508400\n",
      "Epoch  3, CIFAR-10 Batch 3:  loss:     1.1219 Accuracy: 0.514000\n",
      "Epoch  3, CIFAR-10 Batch 4:  loss:     1.2832 Accuracy: 0.518600\n",
      "Epoch  3, CIFAR-10 Batch 5:  loss:     1.3517 Accuracy: 0.524000\n",
      "Epoch  4, CIFAR-10 Batch 1:  loss:     1.3823 Accuracy: 0.531800\n",
      "Epoch  4, CIFAR-10 Batch 2:  loss:     1.3185 Accuracy: 0.539600\n",
      "Epoch  4, CIFAR-10 Batch 3:  loss:     1.0409 Accuracy: 0.534000\n",
      "Epoch  4, CIFAR-10 Batch 4:  loss:     1.1640 Accuracy: 0.539800\n",
      "Epoch  4, CIFAR-10 Batch 5:  loss:     1.2533 Accuracy: 0.548200\n",
      "Epoch  5, CIFAR-10 Batch 1:  loss:     1.2909 Accuracy: 0.543000\n",
      "Epoch  5, CIFAR-10 Batch 2:  loss:     1.2195 Accuracy: 0.555800\n",
      "Epoch  5, CIFAR-10 Batch 3:  loss:     0.9165 Accuracy: 0.556800\n",
      "Epoch  5, CIFAR-10 Batch 4:  loss:     1.0740 Accuracy: 0.559000\n",
      "Epoch  5, CIFAR-10 Batch 5:  loss:     1.2145 Accuracy: 0.565200\n",
      "Epoch  6, CIFAR-10 Batch 1:  loss:     1.1329 Accuracy: 0.567400\n",
      "Epoch  6, CIFAR-10 Batch 2:  loss:     1.0862 Accuracy: 0.572800\n",
      "Epoch  6, CIFAR-10 Batch 3:  loss:     0.8484 Accuracy: 0.575800\n",
      "Epoch  6, CIFAR-10 Batch 4:  loss:     0.9913 Accuracy: 0.576800\n",
      "Epoch  6, CIFAR-10 Batch 5:  loss:     1.1076 Accuracy: 0.585000\n",
      "Epoch  7, CIFAR-10 Batch 1:  loss:     1.0740 Accuracy: 0.562000\n",
      "Epoch  7, CIFAR-10 Batch 2:  loss:     1.0261 Accuracy: 0.578400\n",
      "Epoch  7, CIFAR-10 Batch 3:  loss:     0.7988 Accuracy: 0.590000\n",
      "Epoch  7, CIFAR-10 Batch 4:  loss:     0.9073 Accuracy: 0.596200\n",
      "Epoch  7, CIFAR-10 Batch 5:  loss:     1.0599 Accuracy: 0.593600\n",
      "Epoch  8, CIFAR-10 Batch 1:  loss:     1.0518 Accuracy: 0.595400\n",
      "Epoch  8, CIFAR-10 Batch 2:  loss:     0.9218 Accuracy: 0.602600\n",
      "Epoch  8, CIFAR-10 Batch 3:  loss:     0.7189 Accuracy: 0.605000\n",
      "Epoch  8, CIFAR-10 Batch 4:  loss:     0.8692 Accuracy: 0.601000\n",
      "Epoch  8, CIFAR-10 Batch 5:  loss:     0.9948 Accuracy: 0.612400\n",
      "Epoch  9, CIFAR-10 Batch 1:  loss:     1.0034 Accuracy: 0.603200\n",
      "Epoch  9, CIFAR-10 Batch 2:  loss:     0.9043 Accuracy: 0.602800\n",
      "Epoch  9, CIFAR-10 Batch 3:  loss:     0.7163 Accuracy: 0.608200\n",
      "Epoch  9, CIFAR-10 Batch 4:  loss:     0.8189 Accuracy: 0.614000\n",
      "Epoch  9, CIFAR-10 Batch 5:  loss:     1.0384 Accuracy: 0.607400\n",
      "Epoch 10, CIFAR-10 Batch 1:  loss:     0.9484 Accuracy: 0.613600\n",
      "Epoch 10, CIFAR-10 Batch 2:  loss:     0.8647 Accuracy: 0.615800\n",
      "Epoch 10, CIFAR-10 Batch 3:  loss:     0.6775 Accuracy: 0.620000\n",
      "Epoch 10, CIFAR-10 Batch 4:  loss:     0.8028 Accuracy: 0.620600\n",
      "Epoch 10, CIFAR-10 Batch 5:  loss:     0.9695 Accuracy: 0.618000\n",
      "Epoch 11, CIFAR-10 Batch 1:  loss:     0.9156 Accuracy: 0.623000\n",
      "Epoch 11, CIFAR-10 Batch 2:  loss:     0.7853 Accuracy: 0.617600\n",
      "Epoch 11, CIFAR-10 Batch 3:  loss:     0.6649 Accuracy: 0.630200\n",
      "Epoch 11, CIFAR-10 Batch 4:  loss:     0.7746 Accuracy: 0.627000\n",
      "Epoch 11, CIFAR-10 Batch 5:  loss:     0.9436 Accuracy: 0.628200\n",
      "Epoch 12, CIFAR-10 Batch 1:  loss:     0.8919 Accuracy: 0.632800\n",
      "Epoch 12, CIFAR-10 Batch 2:  loss:     0.7344 Accuracy: 0.626000\n",
      "Epoch 12, CIFAR-10 Batch 3:  loss:     0.6239 Accuracy: 0.623600\n",
      "Epoch 12, CIFAR-10 Batch 4:  loss:     0.7180 Accuracy: 0.634600\n",
      "Epoch 12, CIFAR-10 Batch 5:  loss:     0.8688 Accuracy: 0.627000\n",
      "Epoch 13, CIFAR-10 Batch 1:  loss:     0.8348 Accuracy: 0.614000\n",
      "Epoch 13, CIFAR-10 Batch 2:  loss:     0.7086 Accuracy: 0.636800\n",
      "Epoch 13, CIFAR-10 Batch 3:  loss:     0.5910 Accuracy: 0.636200\n",
      "Epoch 13, CIFAR-10 Batch 4:  loss:     0.6879 Accuracy: 0.637800\n",
      "Epoch 13, CIFAR-10 Batch 5:  loss:     0.8723 Accuracy: 0.629600\n",
      "Epoch 14, CIFAR-10 Batch 1:  loss:     0.8283 Accuracy: 0.621000\n",
      "Epoch 14, CIFAR-10 Batch 2:  loss:     0.6472 Accuracy: 0.636200\n",
      "Epoch 14, CIFAR-10 Batch 3:  loss:     0.5954 Accuracy: 0.620200\n",
      "Epoch 14, CIFAR-10 Batch 4:  loss:     0.6791 Accuracy: 0.641000\n",
      "Epoch 14, CIFAR-10 Batch 5:  loss:     0.8107 Accuracy: 0.642800\n",
      "Epoch 15, CIFAR-10 Batch 1:  loss:     0.8759 Accuracy: 0.629400\n",
      "Epoch 15, CIFAR-10 Batch 2:  loss:     0.6243 Accuracy: 0.641600\n",
      "Epoch 15, CIFAR-10 Batch 3:  loss:     0.5537 Accuracy: 0.638000\n",
      "Epoch 15, CIFAR-10 Batch 4:  loss:     0.6349 Accuracy: 0.645800\n",
      "Epoch 15, CIFAR-10 Batch 5:  loss:     0.7809 Accuracy: 0.644200\n",
      "Epoch 16, CIFAR-10 Batch 1:  loss:     0.7908 Accuracy: 0.636800\n",
      "Epoch 16, CIFAR-10 Batch 2:  loss:     0.6036 Accuracy: 0.646600\n",
      "Epoch 16, CIFAR-10 Batch 3:  loss:     0.5164 Accuracy: 0.640600\n",
      "Epoch 16, CIFAR-10 Batch 4:  loss:     0.6038 Accuracy: 0.645400\n",
      "Epoch 16, CIFAR-10 Batch 5:  loss:     0.7550 Accuracy: 0.645400\n",
      "Epoch 17, CIFAR-10 Batch 1:  loss:     0.7600 Accuracy: 0.651600\n",
      "Epoch 17, CIFAR-10 Batch 2:  loss:     0.5807 Accuracy: 0.644000\n",
      "Epoch 17, CIFAR-10 Batch 3:  loss:     0.5066 Accuracy: 0.641400\n",
      "Epoch 17, CIFAR-10 Batch 4:  loss:     0.5737 Accuracy: 0.651800\n",
      "Epoch 17, CIFAR-10 Batch 5:  loss:     0.6933 Accuracy: 0.653800\n",
      "Epoch 18, CIFAR-10 Batch 1:  loss:     0.7618 Accuracy: 0.650600\n",
      "Epoch 18, CIFAR-10 Batch 2:  loss:     0.5796 Accuracy: 0.653200\n",
      "Epoch 18, CIFAR-10 Batch 3:  loss:     0.4977 Accuracy: 0.641800\n",
      "Epoch 18, CIFAR-10 Batch 4:  loss:     0.5535 Accuracy: 0.651400\n",
      "Epoch 18, CIFAR-10 Batch 5:  loss:     0.6351 Accuracy: 0.652200\n",
      "Epoch 19, CIFAR-10 Batch 1:  loss:     0.7754 Accuracy: 0.639600\n",
      "Epoch 19, CIFAR-10 Batch 2:  loss:     0.5595 Accuracy: 0.649400\n",
      "Epoch 19, CIFAR-10 Batch 3:  loss:     0.4749 Accuracy: 0.638200\n",
      "Epoch 19, CIFAR-10 Batch 4:  loss:     0.5280 Accuracy: 0.654200\n",
      "Epoch 19, CIFAR-10 Batch 5:  loss:     0.6852 Accuracy: 0.651000\n",
      "Epoch 20, CIFAR-10 Batch 1:  loss:     0.7234 Accuracy: 0.645000\n",
      "Epoch 20, CIFAR-10 Batch 2:  loss:     0.5502 Accuracy: 0.639400\n",
      "Epoch 20, CIFAR-10 Batch 3:  loss:     0.4957 Accuracy: 0.641800\n",
      "Epoch 20, CIFAR-10 Batch 4:  loss:     0.5208 Accuracy: 0.655800\n",
      "Epoch 20, CIFAR-10 Batch 5:  loss:     0.6341 Accuracy: 0.656200\n",
      "Epoch 21, CIFAR-10 Batch 1:  loss:     0.7103 Accuracy: 0.660400\n",
      "Epoch 21, CIFAR-10 Batch 2:  loss:     0.5266 Accuracy: 0.656600\n",
      "Epoch 21, CIFAR-10 Batch 3:  loss:     0.4602 Accuracy: 0.648600\n",
      "Epoch 21, CIFAR-10 Batch 4:  loss:     0.4882 Accuracy: 0.665000\n",
      "Epoch 21, CIFAR-10 Batch 5:  loss:     0.5859 Accuracy: 0.654600\n",
      "Epoch 22, CIFAR-10 Batch 1:  loss:     0.6886 Accuracy: 0.642400\n",
      "Epoch 22, CIFAR-10 Batch 2:  loss:     0.4877 Accuracy: 0.654800\n",
      "Epoch 22, CIFAR-10 Batch 3:  loss:     0.4401 Accuracy: 0.658600\n",
      "Epoch 22, CIFAR-10 Batch 4:  loss:     0.4920 Accuracy: 0.665600\n",
      "Epoch 22, CIFAR-10 Batch 5:  loss:     0.5971 Accuracy: 0.659800\n",
      "Epoch 23, CIFAR-10 Batch 1:  loss:     0.6935 Accuracy: 0.656200\n",
      "Epoch 23, CIFAR-10 Batch 2:  loss:     0.4803 Accuracy: 0.648000\n",
      "Epoch 23, CIFAR-10 Batch 3:  loss:     0.4532 Accuracy: 0.655000\n",
      "Epoch 23, CIFAR-10 Batch 4:  loss:     0.4598 Accuracy: 0.663800\n",
      "Epoch 23, CIFAR-10 Batch 5:  loss:     0.5879 Accuracy: 0.658800\n",
      "Epoch 24, CIFAR-10 Batch 1:  loss:     0.6694 Accuracy: 0.652800\n",
      "Epoch 24, CIFAR-10 Batch 2:  loss:     0.4574 Accuracy: 0.665800\n",
      "Epoch 24, CIFAR-10 Batch 3:  loss:     0.4255 Accuracy: 0.656600\n",
      "Epoch 24, CIFAR-10 Batch 4:  loss:     0.4643 Accuracy: 0.663400\n",
      "Epoch 24, CIFAR-10 Batch 5:  loss:     0.5462 Accuracy: 0.662200\n",
      "Epoch 25, CIFAR-10 Batch 1:  loss:     0.6575 Accuracy: 0.667600\n",
      "Epoch 25, CIFAR-10 Batch 2:  loss:     0.4942 Accuracy: 0.659800\n",
      "Epoch 25, CIFAR-10 Batch 3:  loss:     0.4339 Accuracy: 0.655600\n",
      "Epoch 25, CIFAR-10 Batch 4:  loss:     0.4581 Accuracy: 0.663000\n",
      "Epoch 25, CIFAR-10 Batch 5:  loss:     0.5501 Accuracy: 0.651200\n",
      "Epoch 26, CIFAR-10 Batch 1:  loss:     0.7211 Accuracy: 0.656000\n"
     ]
    },
    {
     "name": "stdout",
     "output_type": "stream",
     "text": [
      "Epoch 26, CIFAR-10 Batch 2:  loss:     0.4401 Accuracy: 0.667000\n",
      "Epoch 26, CIFAR-10 Batch 3:  loss:     0.3930 Accuracy: 0.657000\n",
      "Epoch 26, CIFAR-10 Batch 4:  loss:     0.4308 Accuracy: 0.663000\n",
      "Epoch 26, CIFAR-10 Batch 5:  loss:     0.5149 Accuracy: 0.666400\n",
      "Epoch 27, CIFAR-10 Batch 1:  loss:     0.5807 Accuracy: 0.657200\n",
      "Epoch 27, CIFAR-10 Batch 2:  loss:     0.4479 Accuracy: 0.669000\n",
      "Epoch 27, CIFAR-10 Batch 3:  loss:     0.3877 Accuracy: 0.656400\n",
      "Epoch 27, CIFAR-10 Batch 4:  loss:     0.4482 Accuracy: 0.671600\n",
      "Epoch 27, CIFAR-10 Batch 5:  loss:     0.4820 Accuracy: 0.667800\n",
      "Epoch 28, CIFAR-10 Batch 1:  loss:     0.5987 Accuracy: 0.666200\n",
      "Epoch 28, CIFAR-10 Batch 2:  loss:     0.4153 Accuracy: 0.672600\n",
      "Epoch 28, CIFAR-10 Batch 3:  loss:     0.3793 Accuracy: 0.667800\n",
      "Epoch 28, CIFAR-10 Batch 4:  loss:     0.4494 Accuracy: 0.670400\n",
      "Epoch 28, CIFAR-10 Batch 5:  loss:     0.4877 Accuracy: 0.672400\n",
      "Epoch 29, CIFAR-10 Batch 1:  loss:     0.6048 Accuracy: 0.665600\n",
      "Epoch 29, CIFAR-10 Batch 2:  loss:     0.4178 Accuracy: 0.664800\n",
      "Epoch 29, CIFAR-10 Batch 3:  loss:     0.3644 Accuracy: 0.662000\n",
      "Epoch 29, CIFAR-10 Batch 4:  loss:     0.4284 Accuracy: 0.668400\n",
      "Epoch 29, CIFAR-10 Batch 5:  loss:     0.4856 Accuracy: 0.672000\n",
      "Epoch 30, CIFAR-10 Batch 1:  loss:     0.5583 Accuracy: 0.665400\n",
      "Epoch 30, CIFAR-10 Batch 2:  loss:     0.4077 Accuracy: 0.664800\n",
      "Epoch 30, CIFAR-10 Batch 3:  loss:     0.3685 Accuracy: 0.660800\n",
      "Epoch 30, CIFAR-10 Batch 4:  loss:     0.4271 Accuracy: 0.671600\n",
      "Epoch 30, CIFAR-10 Batch 5:  loss:     0.4782 Accuracy: 0.671800\n",
      "Epoch 31, CIFAR-10 Batch 1:  loss:     0.5572 Accuracy: 0.670600\n",
      "Epoch 31, CIFAR-10 Batch 2:  loss:     0.4228 Accuracy: 0.664800\n",
      "Epoch 31, CIFAR-10 Batch 3:  loss:     0.3559 Accuracy: 0.668000\n",
      "Epoch 31, CIFAR-10 Batch 4:  loss:     0.4024 Accuracy: 0.672000\n",
      "Epoch 31, CIFAR-10 Batch 5:  loss:     0.4717 Accuracy: 0.672200\n",
      "Epoch 32, CIFAR-10 Batch 1:  loss:     0.5667 Accuracy: 0.666200\n",
      "Epoch 32, CIFAR-10 Batch 2:  loss:     0.4037 Accuracy: 0.672000\n",
      "Epoch 32, CIFAR-10 Batch 3:  loss:     0.3353 Accuracy: 0.669000\n",
      "Epoch 32, CIFAR-10 Batch 4:  loss:     0.3889 Accuracy: 0.669400\n",
      "Epoch 32, CIFAR-10 Batch 5:  loss:     0.4263 Accuracy: 0.676400\n",
      "Epoch 33, CIFAR-10 Batch 1:  loss:     0.5712 Accuracy: 0.657800\n",
      "Epoch 33, CIFAR-10 Batch 2:  loss:     0.3821 Accuracy: 0.672800\n",
      "Epoch 33, CIFAR-10 Batch 3:  loss:     0.3570 Accuracy: 0.661000\n",
      "Epoch 33, CIFAR-10 Batch 4:  loss:     0.3893 Accuracy: 0.670000\n",
      "Epoch 33, CIFAR-10 Batch 5:  loss:     0.4281 Accuracy: 0.674200\n",
      "Epoch 34, CIFAR-10 Batch 1:  loss:     0.5602 Accuracy: 0.676000\n",
      "Epoch 34, CIFAR-10 Batch 2:  loss:     0.3887 Accuracy: 0.678400\n",
      "Epoch 34, CIFAR-10 Batch 3:  loss:     0.3494 Accuracy: 0.675600\n",
      "Epoch 34, CIFAR-10 Batch 4:  loss:     0.3778 Accuracy: 0.671400\n",
      "Epoch 34, CIFAR-10 Batch 5:  loss:     0.3981 Accuracy: 0.680800\n",
      "Epoch 35, CIFAR-10 Batch 1:  loss:     0.5122 Accuracy: 0.677800\n",
      "Epoch 35, CIFAR-10 Batch 2:  loss:     0.3673 Accuracy: 0.678400\n",
      "Epoch 35, CIFAR-10 Batch 3:  loss:     0.3551 Accuracy: 0.666600\n",
      "Epoch 35, CIFAR-10 Batch 4:  loss:     0.3705 Accuracy: 0.674200\n",
      "Epoch 35, CIFAR-10 Batch 5:  loss:     0.4091 Accuracy: 0.677600\n",
      "Epoch 36, CIFAR-10 Batch 1:  loss:     0.5020 Accuracy: 0.670800\n",
      "Epoch 36, CIFAR-10 Batch 2:  loss:     0.3498 Accuracy: 0.673200\n",
      "Epoch 36, CIFAR-10 Batch 3:  loss:     0.3699 Accuracy: 0.662800\n",
      "Epoch 36, CIFAR-10 Batch 4:  loss:     0.3676 Accuracy: 0.677600\n",
      "Epoch 36, CIFAR-10 Batch 5:  loss:     0.3614 Accuracy: 0.681200\n",
      "Epoch 37, CIFAR-10 Batch 1:  loss:     0.4680 Accuracy: 0.672200\n",
      "Epoch 37, CIFAR-10 Batch 2:  loss:     0.3558 Accuracy: 0.673400\n",
      "Epoch 37, CIFAR-10 Batch 3:  loss:     0.3094 Accuracy: 0.677400\n",
      "Epoch 37, CIFAR-10 Batch 4:  loss:     0.3594 Accuracy: 0.679000\n",
      "Epoch 37, CIFAR-10 Batch 5:  loss:     0.3849 Accuracy: 0.681200\n",
      "Epoch 38, CIFAR-10 Batch 1:  loss:     0.5051 Accuracy: 0.674400\n",
      "Epoch 38, CIFAR-10 Batch 2:  loss:     0.3541 Accuracy: 0.682200\n",
      "Epoch 38, CIFAR-10 Batch 3:  loss:     0.3016 Accuracy: 0.668600\n",
      "Epoch 38, CIFAR-10 Batch 4:  loss:     0.3696 Accuracy: 0.667200\n",
      "Epoch 38, CIFAR-10 Batch 5:  loss:     0.3849 Accuracy: 0.682800\n",
      "Epoch 39, CIFAR-10 Batch 1:  loss:     0.4559 Accuracy: 0.662200\n",
      "Epoch 39, CIFAR-10 Batch 2:  loss:     0.3278 Accuracy: 0.682800\n",
      "Epoch 39, CIFAR-10 Batch 3:  loss:     0.2985 Accuracy: 0.675200\n",
      "Epoch 39, CIFAR-10 Batch 4:  loss:     0.3469 Accuracy: 0.680600\n",
      "Epoch 39, CIFAR-10 Batch 5:  loss:     0.3551 Accuracy: 0.680600\n",
      "Epoch 40, CIFAR-10 Batch 1:  loss:     0.4513 Accuracy: 0.677200\n",
      "Epoch 40, CIFAR-10 Batch 2:  loss:     0.3375 Accuracy: 0.681000\n",
      "Epoch 40, CIFAR-10 Batch 3:  loss:     0.2760 Accuracy: 0.671200\n",
      "Epoch 40, CIFAR-10 Batch 4:  loss:     0.3288 Accuracy: 0.681800\n",
      "Epoch 40, CIFAR-10 Batch 5:  loss:     0.3406 Accuracy: 0.686000\n",
      "Epoch 41, CIFAR-10 Batch 1:  loss:     0.4103 Accuracy: 0.678800\n",
      "Epoch 41, CIFAR-10 Batch 2:  loss:     0.3234 Accuracy: 0.677400\n",
      "Epoch 41, CIFAR-10 Batch 3:  loss:     0.2787 Accuracy: 0.678400\n",
      "Epoch 41, CIFAR-10 Batch 4:  loss:     0.3102 Accuracy: 0.680800\n",
      "Epoch 41, CIFAR-10 Batch 5:  loss:     0.3472 Accuracy: 0.682600\n",
      "Epoch 42, CIFAR-10 Batch 1:  loss:     0.4351 Accuracy: 0.668200\n",
      "Epoch 42, CIFAR-10 Batch 2:  loss:     0.2985 Accuracy: 0.685000\n",
      "Epoch 42, CIFAR-10 Batch 3:  loss:     0.2678 Accuracy: 0.671400\n",
      "Epoch 42, CIFAR-10 Batch 4:  loss:     0.3280 Accuracy: 0.680000\n",
      "Epoch 42, CIFAR-10 Batch 5:  loss:     0.3311 Accuracy: 0.685600\n",
      "Epoch 43, CIFAR-10 Batch 1:  loss:     0.4185 Accuracy: 0.669400\n",
      "Epoch 43, CIFAR-10 Batch 2:  loss:     0.3078 Accuracy: 0.680400\n",
      "Epoch 43, CIFAR-10 Batch 3:  loss:     0.2976 Accuracy: 0.679600\n",
      "Epoch 43, CIFAR-10 Batch 4:  loss:     0.3298 Accuracy: 0.678400\n",
      "Epoch 43, CIFAR-10 Batch 5:  loss:     0.3414 Accuracy: 0.674200\n",
      "Epoch 44, CIFAR-10 Batch 1:  loss:     0.3876 Accuracy: 0.677200\n",
      "Epoch 44, CIFAR-10 Batch 2:  loss:     0.3044 Accuracy: 0.682200\n",
      "Epoch 44, CIFAR-10 Batch 3:  loss:     0.2735 Accuracy: 0.682400\n",
      "Epoch 44, CIFAR-10 Batch 4:  loss:     0.3268 Accuracy: 0.676400\n",
      "Epoch 44, CIFAR-10 Batch 5:  loss:     0.3093 Accuracy: 0.686400\n",
      "Epoch 45, CIFAR-10 Batch 1:  loss:     0.3860 Accuracy: 0.678400\n",
      "Epoch 45, CIFAR-10 Batch 2:  loss:     0.3132 Accuracy: 0.680800\n",
      "Epoch 45, CIFAR-10 Batch 3:  loss:     0.2622 Accuracy: 0.684400\n",
      "Epoch 45, CIFAR-10 Batch 4:  loss:     0.3021 Accuracy: 0.675400\n",
      "Epoch 45, CIFAR-10 Batch 5:  loss:     0.3141 Accuracy: 0.688000\n",
      "Epoch 46, CIFAR-10 Batch 1:  loss:     0.4223 Accuracy: 0.672200\n",
      "Epoch 46, CIFAR-10 Batch 2:  loss:     0.2839 Accuracy: 0.684800\n",
      "Epoch 46, CIFAR-10 Batch 3:  loss:     0.2497 Accuracy: 0.685800\n",
      "Epoch 46, CIFAR-10 Batch 4:  loss:     0.3211 Accuracy: 0.675600\n",
      "Epoch 46, CIFAR-10 Batch 5:  loss:     0.3196 Accuracy: 0.684000\n",
      "Epoch 47, CIFAR-10 Batch 1:  loss:     0.3887 Accuracy: 0.673000\n",
      "Epoch 47, CIFAR-10 Batch 2:  loss:     0.2804 Accuracy: 0.684200\n",
      "Epoch 47, CIFAR-10 Batch 3:  loss:     0.2629 Accuracy: 0.681400\n",
      "Epoch 47, CIFAR-10 Batch 4:  loss:     0.2844 Accuracy: 0.682600\n",
      "Epoch 47, CIFAR-10 Batch 5:  loss:     0.3173 Accuracy: 0.682600\n",
      "Epoch 48, CIFAR-10 Batch 1:  loss:     0.3588 Accuracy: 0.683200\n",
      "Epoch 48, CIFAR-10 Batch 2:  loss:     0.2856 Accuracy: 0.683600\n",
      "Epoch 48, CIFAR-10 Batch 3:  loss:     0.2657 Accuracy: 0.675200\n",
      "Epoch 48, CIFAR-10 Batch 4:  loss:     0.3024 Accuracy: 0.681000\n",
      "Epoch 48, CIFAR-10 Batch 5:  loss:     0.2849 Accuracy: 0.683400\n",
      "Epoch 49, CIFAR-10 Batch 1:  loss:     0.3930 Accuracy: 0.682200\n",
      "Epoch 49, CIFAR-10 Batch 2:  loss:     0.2611 Accuracy: 0.693200\n",
      "Epoch 49, CIFAR-10 Batch 3:  loss:     0.2369 Accuracy: 0.682800\n",
      "Epoch 49, CIFAR-10 Batch 4:  loss:     0.2886 Accuracy: 0.681000\n",
      "Epoch 49, CIFAR-10 Batch 5:  loss:     0.3016 Accuracy: 0.686400\n",
      "Epoch 50, CIFAR-10 Batch 1:  loss:     0.3716 Accuracy: 0.679400\n",
      "Epoch 50, CIFAR-10 Batch 2:  loss:     0.2574 Accuracy: 0.690200\n",
      "Epoch 50, CIFAR-10 Batch 3:  loss:     0.2392 Accuracy: 0.688400\n",
      "Epoch 50, CIFAR-10 Batch 4:  loss:     0.2691 Accuracy: 0.685600\n",
      "Epoch 50, CIFAR-10 Batch 5:  loss:     0.2734 Accuracy: 0.689600\n"
     ]
    }
   ],
   "source": [
    "\"\"\"\n",
    "DON'T MODIFY ANYTHING IN THIS CELL\n",
    "\"\"\"\n",
    "save_model_path = './image_classification'\n",
    "\n",
    "print('Training...')\n",
    "with tf.Session() as sess:\n",
    "    # Initializing the variables\n",
    "    sess.run(tf.global_variables_initializer())\n",
    "    \n",
    "    # Training cycle\n",
    "    for epoch in range(epochs):\n",
    "        # Loop over all batches\n",
    "        n_batches = 5\n",
    "        for batch_i in range(1, n_batches + 1):\n",
    "            for batch_features, batch_labels in helper.load_preprocess_training_batch(batch_i, batch_size):\n",
    "                train_neural_network(sess, optimizer, keep_probability, batch_features, batch_labels)\n",
    "            print('Epoch {:>2}, CIFAR-10 Batch {}:  '.format(epoch + 1, batch_i), end='')\n",
    "            print_stats(sess, batch_features, batch_labels, cost, accuracy)\n",
    "            \n",
    "    # Save Model\n",
    "    saver = tf.train.Saver()\n",
    "    save_path = saver.save(sess, save_model_path)"
   ]
  },
  {
   "cell_type": "markdown",
   "metadata": {},
   "source": [
    "# Checkpoint\n",
    "The model has been saved to disk.\n",
    "## Test Model\n",
    "Test your model against the test dataset.  This will be your final accuracy. You should have an accuracy greater than 50%. If you don't, keep tweaking the model architecture and parameters."
   ]
  },
  {
   "cell_type": "code",
   "execution_count": 22,
   "metadata": {},
   "outputs": [
    {
     "name": "stdout",
     "output_type": "stream",
     "text": [
      "INFO:tensorflow:Restoring parameters from ./image_classification\n",
      "Testing Accuracy: 0.68544921875\n",
      "\n"
     ]
    },
    {
     "data": {
      "image/png": "[encoded data removed]",
      "text/plain": [
       "<matplotlib.figure.Figure at 0x7fa586376d30>"
      ]
     },
     "metadata": {
      "image/png": {
       "height": 319,
       "width": 355
      }
     },
     "output_type": "display_data"
    }
   ],
   "source": [
    "\"\"\"\n",
    "DON'T MODIFY ANYTHING IN THIS CELL\n",
    "\"\"\"\n",
    "%matplotlib inline\n",
    "%config InlineBackend.figure_format = 'retina'\n",
    "\n",
    "import tensorflow as tf\n",
    "import pickle\n",
    "import helper\n",
    "import random\n",
    "\n",
    "# Set batch size if not already set\n",
    "try:\n",
    "    if batch_size:\n",
    "        pass\n",
    "except NameError:\n",
    "    batch_size = 64\n",
    "\n",
    "save_model_path = './image_classification'\n",
    "n_samples = 4\n",
    "top_n_predictions = 3\n",
    "\n",
    "def test_model():\n",
    "    \"\"\"\n",
    "    Test the saved model against the test dataset\n",
    "    \"\"\"\n",
    "\n",
    "    test_features, test_labels = pickle.load(open('preprocess_training.p', mode='rb'))\n",
    "    loaded_graph = tf.Graph()\n",
    "\n",
    "    with tf.Session(graph=loaded_graph) as sess:\n",
    "        # Load model\n",
    "        loader = tf.train.import_meta_graph(save_model_path + '.meta')\n",
    "        loader.restore(sess, save_model_path)\n",
    "\n",
    "        # Get Tensors from loaded model\n",
    "        loaded_x = loaded_graph.get_tensor_by_name('x:0')\n",
    "        loaded_y = loaded_graph.get_tensor_by_name('y:0')\n",
    "        loaded_keep_prob = loaded_graph.get_tensor_by_name('keep_prob:0')\n",
    "        loaded_logits = loaded_graph.get_tensor_by_name('logits:0')\n",
    "        loaded_acc = loaded_graph.get_tensor_by_name('accuracy:0')\n",
    "        \n",
    "        # Get accuracy in batches for memory limitations\n",
    "        test_batch_acc_total = 0\n",
    "        test_batch_count = 0\n",
    "        \n",
    "        for train_feature_batch, train_label_batch in helper.batch_features_labels(test_features, test_labels, batch_size):\n",
    "            test_batch_acc_total += sess.run(\n",
    "                loaded_acc,\n",
    "                feed_dict={loaded_x: train_feature_batch, loaded_y: train_label_batch, loaded_keep_prob: 1.0})\n",
    "            test_batch_count += 1\n",
    "\n",
    "        print('Testing Accuracy: {}\\n'.format(test_batch_acc_total/test_batch_count))\n",
    "\n",
    "        # Print Random Samples\n",
    "        random_test_features, random_test_labels = tuple(zip(*random.sample(list(zip(test_features, test_labels)), n_samples)))\n",
    "        random_test_predictions = sess.run(\n",
    "            tf.nn.top_k(tf.nn.softmax(loaded_logits), top_n_predictions),\n",
    "            feed_dict={loaded_x: random_test_features, loaded_y: random_test_labels, loaded_keep_prob: 1.0})\n",
    "        helper.display_image_predictions(random_test_features, random_test_labels, random_test_predictions)\n",
    "\n",
    "\n",
    "test_model()"
   ]
  },
  {
   "cell_type": "markdown",
   "metadata": {},
   "source": [
    "## Why 50-80% Accuracy?\n",
    "You might be wondering why you can't get an accuracy any higher. First things first, 50% isn't bad for a simple CNN.  Pure guessing would get you 10% accuracy. That's because there are many more techniques that can be applied to your model and we recemmond that once you are done with this project, you explore!\n",
    "\n",
    "## Submitting This Project\n",
    "When submitting this project, make sure to run all the cells before saving the notebook.  Save the notebook file as \"image_classification.ipynb\" and save it as a HTML file under \"File\" -> \"Download as\".  Include the \"helper.py\" and \"problem_unittests.py\" files in your submission."
   ]
  }
 ],
 "metadata": {
  "kernelspec": {
   "display_name": "Python 3",
   "language": "python",
   "name": "python3"
  },
  "language_info": {
   "codemirror_mode": {
    "name": "ipython",
    "version": 3
   },
   "file_extension": ".py",
   "mimetype": "text/x-python",
   "name": "python",
   "nbconvert_exporter": "python",
   "pygments_lexer": "ipython3",
   "version": "3.5.3"
  }
 },
 "nbformat": 4,
 "nbformat_minor": 1
}
